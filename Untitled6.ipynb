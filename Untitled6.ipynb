{
  "nbformat": 4,
  "nbformat_minor": 0,
  "metadata": {
    "colab": {
      "provenance": [],
      "authorship_tag": "ABX9TyM0Dd/uzmimaxWKLezM9/Zm",
      "include_colab_link": true
    },
    "kernelspec": {
      "name": "python3",
      "display_name": "Python 3"
    },
    "language_info": {
      "name": "python"
    }
  },
  "cells": [
    {
      "cell_type": "markdown",
      "metadata": {
        "id": "view-in-github",
        "colab_type": "text"
      },
      "source": [
        "<a href=\"https://colab.research.google.com/github/Timoooooooootttthhyyyyyyy/Timothy/blob/main/Untitled6.ipynb\" target=\"_parent\"><img src=\"https://colab.research.google.com/assets/colab-badge.svg\" alt=\"Open In Colab\"/></a>"
      ]
    },
    {
      "cell_type": "code",
      "execution_count": 3,
      "metadata": {
        "colab": {
          "base_uri": "https://localhost:8080/"
        },
        "id": "5y5HYnjZox96",
        "outputId": "dc547e8a-dc7c-4f41-a56f-937fc9250524"
      },
      "outputs": [
        {
          "output_type": "stream",
          "name": "stdout",
          "text": [
            "Enter a travel source India\n",
            "Enter a travel destination Saudi Arabia\n",
            "Number of passengers 3256\n",
            " India  Saudi Arabia 3256\n"
          ]
        }
      ],
      "source": [
        "x=input('Enter a travel source')\n",
        "y=input('Enter a travel destination')\n",
        "z=int(input('Number of passengers'))\n",
        "print(x,y,z)"
      ]
    },
    {
      "cell_type": "code",
      "source": [
        "x=int(input('Number of pssengers'))\n",
        "y=int(input('Passengers total ticket fare'))\n",
        "a=y/x\n",
        "print('Ticket fare per person',a)"
      ],
      "metadata": {
        "colab": {
          "base_uri": "https://localhost:8080/"
        },
        "id": "tzXi-gfSpJiI",
        "outputId": "8cd199ba-3285-42a9-c939-b38c11e2cccf"
      },
      "execution_count": 7,
      "outputs": [
        {
          "output_type": "stream",
          "name": "stdout",
          "text": [
            "Number of pssengers 100\n",
            "Passengers total ticket fare 5000\n",
            "Ticket fare per person 50.0\n"
          ]
        }
      ]
    },
    {
      "cell_type": "code",
      "source": [
        "\n",
        "x=input('Passengers name')\n",
        "y=int(input('Total ticket fare'))\n",
        "print(x,y)"
      ],
      "metadata": {
        "colab": {
          "base_uri": "https://localhost:8080/"
        },
        "id": "zkEFTpfqp-xq",
        "outputId": "2df3951a-8221-4451-bd24-f21d7f522abe"
      },
      "execution_count": 9,
      "outputs": [
        {
          "output_type": "stream",
          "name": "stdout",
          "text": [
            "Passengers name Timothy Chacko\n",
            "Total ticket fare 1000\n",
            " Timothy Chacko 1000\n"
          ]
        }
      ]
    },
    {
      "cell_type": "code",
      "source": [
        "x=int(input('Salary'))\n",
        "if x>10000:\n",
        "  print('Eligible for discount')\n",
        "else:\n",
        "  print('Not eligible for discount')  "
      ],
      "metadata": {
        "colab": {
          "base_uri": "https://localhost:8080/"
        },
        "id": "KnnsN_yfsLM4",
        "outputId": "d1d4409e-972f-4048-b7bd-e429f7d495ec"
      },
      "execution_count": 10,
      "outputs": [
        {
          "output_type": "stream",
          "name": "stdout",
          "text": [
            "Salary 30000\n",
            "Eligible for discount\n"
          ]
        }
      ]
    },
    {
      "cell_type": "code",
      "source": [
        "x=int(input('Total ticket fare'))\n",
        "if x>15000:\n",
        "  print('Eligible for 20% discount')\n",
        "else:\n",
        "  print('Eligible for 10% discount')  "
      ],
      "metadata": {
        "colab": {
          "base_uri": "https://localhost:8080/"
        },
        "id": "XT6MKEYTs_SC",
        "outputId": "a9e6b9ec-db54-42f0-c6b6-0cc2220479cf"
      },
      "execution_count": 11,
      "outputs": [
        {
          "output_type": "stream",
          "name": "stdout",
          "text": [
            "Total ticket fare 10000\n",
            "Eligible for 10% discount\n"
          ]
        }
      ]
    },
    {
      "cell_type": "code",
      "source": [
        "x=int(input('Discounted fares'))\n",
        "if x>=15000:\n",
        "  a=x*20/100\n",
        "  print('Discounted fare',x-a)\n",
        "if x>10000 and x<15000:\n",
        "  b=x*10/100\n",
        "  print('Discounted fare',x-b)\n",
        "if x<10000:\n",
        "  c=x*5/100\n",
        "  print('Discountd fare',x-c)  \n",
        "  \n",
        "\n"
      ],
      "metadata": {
        "colab": {
          "base_uri": "https://localhost:8080/"
        },
        "id": "yg9R7xHpt5QK",
        "outputId": "2b27d91c-8079-44c3-a505-7926d5bf13dd"
      },
      "execution_count": 27,
      "outputs": [
        {
          "output_type": "stream",
          "name": "stdout",
          "text": [
            "Discounted fares20000\n",
            "Discounted fare 16000.0\n"
          ]
        }
      ]
    },
    {
      "cell_type": "code",
      "source": [
        "x=int(input('Enter a number'))\n",
        "if x>0:\n",
        "  print('The number is positive')\n",
        "if x<0:\n",
        "  print('The number is negative')\n",
        "if x==0:\n",
        "  print('The number is zero')\n"
      ],
      "metadata": {
        "colab": {
          "base_uri": "https://localhost:8080/"
        },
        "id": "j-5pBXTyvJQ5",
        "outputId": "fad80bcc-0f34-479e-c0e7-36cd99858e23"
      },
      "execution_count": 29,
      "outputs": [
        {
          "output_type": "stream",
          "name": "stdout",
          "text": [
            "Enter a number 10000\n",
            "The number is positive\n"
          ]
        }
      ]
    },
    {
      "cell_type": "code",
      "source": [
        "x=int(input('Age of the passenger'))\n",
        "if x>18:\n",
        "  print('Adult')\n",
        "if x>13 and x<19:\n",
        "  print('Teenager')\n",
        "if x>6 and x<12:\n",
        "  print('Kid')\n",
        "if x>2 and x<5:\n",
        "  print('Toddler')\n",
        "if x<2:\n",
        "  print('Infant')        "
      ],
      "metadata": {
        "colab": {
          "base_uri": "https://localhost:8080/"
        },
        "id": "pJuJeU7I12W8",
        "outputId": "fba1b101-458d-46e2-de46-fe6e14ba1366"
      },
      "execution_count": 31,
      "outputs": [
        {
          "output_type": "stream",
          "name": "stdout",
          "text": [
            "Age of the passenger 15\n",
            "Teenager\n"
          ]
        }
      ]
    },
    {
      "cell_type": "code",
      "source": [
        "x=input('Enter the initial of the name')\n",
        "if x in('a','e','i','o','u'):\n",
        "  print('vowel')\n",
        "else:\n",
        "  print('not vowel')  "
      ],
      "metadata": {
        "colab": {
          "base_uri": "https://localhost:8080/"
        },
        "id": "c7RvnpcW28SC",
        "outputId": "f760027c-4e39-4b1a-c803-f2d4f3c01fe8"
      },
      "execution_count": 32,
      "outputs": [
        {
          "output_type": "stream",
          "name": "stdout",
          "text": [
            "Enter the initial of the name T\n",
            "not vowel\n"
          ]
        }
      ]
    },
    {
      "cell_type": "code",
      "source": [
        "x=input('Enter your name')\n",
        "for i in x:\n",
        "  print(i)"
      ],
      "metadata": {
        "colab": {
          "base_uri": "https://localhost:8080/"
        },
        "id": "tQhafWOe4Vkh",
        "outputId": "25e028c6-80d5-44ee-b034-958d92980e12"
      },
      "execution_count": 34,
      "outputs": [
        {
          "output_type": "stream",
          "name": "stdout",
          "text": [
            "Enter your name Timothhy\n",
            " \n",
            "T\n",
            "i\n",
            "m\n",
            "o\n",
            "t\n",
            "h\n",
            "h\n",
            "y\n"
          ]
        }
      ]
    },
    {
      "cell_type": "code",
      "source": [
        "for a in range(45,89,2):\n",
        "  print(a)"
      ],
      "metadata": {
        "colab": {
          "base_uri": "https://localhost:8080/"
        },
        "id": "8lRmTcJn5g-u",
        "outputId": "37453a84-5175-4297-81d5-c791acf371d6"
      },
      "execution_count": 37,
      "outputs": [
        {
          "output_type": "stream",
          "name": "stdout",
          "text": [
            "45\n",
            "47\n",
            "49\n",
            "51\n",
            "53\n",
            "55\n",
            "57\n",
            "59\n",
            "61\n",
            "63\n",
            "65\n",
            "67\n",
            "69\n",
            "71\n",
            "73\n",
            "75\n",
            "77\n",
            "79\n",
            "81\n",
            "83\n",
            "85\n",
            "87\n"
          ]
        }
      ]
    },
    {
      "cell_type": "code",
      "source": [
        "i=0\n",
        "for a in range(1,11):\n",
        "  i=i+a\n",
        "  print(i)"
      ],
      "metadata": {
        "colab": {
          "base_uri": "https://localhost:8080/"
        },
        "id": "fhkNg22Z5yo0",
        "outputId": "a13df64f-c615-4e8e-80d7-b4a7b2dc09b0"
      },
      "execution_count": 47,
      "outputs": [
        {
          "output_type": "stream",
          "name": "stdout",
          "text": [
            "1\n",
            "3\n",
            "6\n",
            "10\n",
            "15\n",
            "21\n",
            "28\n",
            "36\n",
            "45\n",
            "55\n"
          ]
        }
      ]
    },
    {
      "cell_type": "code",
      "source": [],
      "metadata": {
        "id": "D0GW0JUW7jax"
      },
      "execution_count": null,
      "outputs": []
    }
  ]
}