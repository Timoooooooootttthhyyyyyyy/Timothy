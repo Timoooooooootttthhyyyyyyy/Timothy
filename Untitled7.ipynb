{
  "nbformat": 4,
  "nbformat_minor": 0,
  "metadata": {
    "colab": {
      "provenance": [],
      "authorship_tag": "ABX9TyNfNxPG1NWjgH2B3ewxYbp6",
      "include_colab_link": true
    },
    "kernelspec": {
      "name": "python3",
      "display_name": "Python 3"
    },
    "language_info": {
      "name": "python"
    }
  },
  "cells": [
    {
      "cell_type": "markdown",
      "metadata": {
        "id": "view-in-github",
        "colab_type": "text"
      },
      "source": [
        "<a href=\"https://colab.research.google.com/github/Timoooooooootttthhyyyyyyy/Timothy/blob/main/Untitled7.ipynb\" target=\"_parent\"><img src=\"https://colab.research.google.com/assets/colab-badge.svg\" alt=\"Open In Colab\"/></a>"
      ]
    },
    {
      "cell_type": "code",
      "execution_count": null,
      "metadata": {
        "colab": {
          "base_uri": "https://localhost:8080/"
        },
        "id": "YQmNmRuyhAmo",
        "outputId": "b4d01508-7bc0-467c-e732-569d91dd8520"
      },
      "outputs": [
        {
          "output_type": "stream",
          "name": "stdout",
          "text": [
            "Enter a value-20\n",
            "20\n"
          ]
        }
      ],
      "source": [
        "x=int(input('Enter a value'))\n",
        "if x<0:\n",
        "  print(x*-1)"
      ]
    },
    {
      "cell_type": "code",
      "source": [
        "x=int(input('Enter a number'))\n",
        "if x>80:\n",
        "  print('A')\n",
        "elif x>60 and x<=80:\n",
        "  print('B')\n",
        "elif x>50 and x<=60:\n",
        "  print('C')\n",
        "elif x>45 and x<=50:\n",
        "  print('D')\n",
        "elif x>25 and x<=45:\n",
        "  print('E')\n",
        "elif x<25:\n",
        "  print('F')             "
      ],
      "metadata": {
        "colab": {
          "base_uri": "https://localhost:8080/"
        },
        "id": "xLEVZBB2jnnu",
        "outputId": "421845e1-2f34-4229-e53b-23649358f5ff"
      },
      "execution_count": null,
      "outputs": [
        {
          "output_type": "stream",
          "name": "stdout",
          "text": [
            "Enter a number 59\n",
            "C\n"
          ]
        }
      ]
    },
    {
      "cell_type": "code",
      "source": [
        "x=int(input('Enter classes held'))\n",
        "y=int(input('Enter classes attended'))\n",
        "a=y/x*100\n",
        "n=75*100/100\n",
        "if a<n:\n",
        "  print('not allowed')\n",
        "elif a>n:\n",
        "  print('Allowed')  \n"
      ],
      "metadata": {
        "colab": {
          "base_uri": "https://localhost:8080/"
        },
        "id": "ram_w8vXnKHn",
        "outputId": "22356701-4dd2-41c6-eaa7-c989a75d8fdd"
      },
      "execution_count": null,
      "outputs": [
        {
          "output_type": "stream",
          "name": "stdout",
          "text": [
            "Enter classes held 20\n",
            "Enter classes attended 5\n",
            "not allowed\n"
          ]
        }
      ]
    },
    {
      "cell_type": "code",
      "source": [
        "print(\"1.Addition\")\n",
        "print(\"2.Subtraction\")\n",
        "print(\"3.Multiplication\")\n",
        "print(\"4.Division\")\n",
        "print(\"5.Modulus\")\n",
        "print(\"6.Floor Division\")\n",
        "print(\"7.Exponent\")\n",
        "x=int(input('Select a number'))\n",
        "m1=int(input('Enter a number'))\n",
        "m2=int(input('Enter a number'))\n",
        "if x==1:\n",
        "  print(m1+m2)\n",
        "if x==2:\n",
        "  print(m1-m2)\n",
        "if x==3:\n",
        "  print(m1*m2)\n",
        "if x==4:\n",
        "  print(m1/m2)\n",
        "if x==5:\n",
        "  print(m1%m2)\n",
        "if x==6:\n",
        "  print(m1//m2)\n",
        "if x==7:\n",
        "  print(m1**m2)            "
      ],
      "metadata": {
        "colab": {
          "base_uri": "https://localhost:8080/"
        },
        "id": "F_GFCZKgpmJI",
        "outputId": "6a81eda3-5a0c-4603-a7d8-1b942275c94a"
      },
      "execution_count": null,
      "outputs": [
        {
          "output_type": "stream",
          "name": "stdout",
          "text": [
            "1.Addition\n",
            "2.Subtraction\n",
            "3.Multiplication\n",
            "4.Division\n",
            "5.Modulus\n",
            "6.Floor Division\n",
            "7.Exponent\n",
            "Select a number1\n",
            "Enter a number19\n",
            "Enter a number20\n",
            "39\n"
          ]
        }
      ]
    },
    {
      "cell_type": "code",
      "source": [
        "m1=int(input('Enter marks score in F.A'))\n",
        "m2=int(input('Enter marks scored in French'))\n",
        "m3=int(input('Enter marks scored in English'))\n",
        "m4=int(input('Enter marks scored in CRA'))\n",
        "m5=int(input('Enter marks scored in DMBS'))\n",
        "print('Least marks:',min(m1,m2,m3,m4,m5))\n",
        "print('Maximum marks:',max(m1,m2,m3,m4,m5))\n",
        "\n"
      ],
      "metadata": {
        "id": "aHq_Dfi0uUYR",
        "colab": {
          "base_uri": "https://localhost:8080/"
        },
        "outputId": "3cb11f84-5c4c-4580-cf68-a1fecbc393e3"
      },
      "execution_count": 16,
      "outputs": [
        {
          "output_type": "stream",
          "name": "stdout",
          "text": [
            "Enter marks score in F.A 30\n",
            "Enter marks scored in French 31\n",
            "Enter marks scored in English 25\n",
            "Enter marks scored in CRA 40\n",
            "Enter marks scored in DMBS 9\n",
            "Least marks: 9\n",
            "Maximum marks: 40\n"
          ]
        }
      ]
    },
    {
      "cell_type": "code",
      "source": [],
      "metadata": {
        "id": "Dr5886n201f7"
      },
      "execution_count": null,
      "outputs": []
    }
  ]
}