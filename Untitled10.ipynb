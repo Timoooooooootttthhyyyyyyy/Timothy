{
  "nbformat": 4,
  "nbformat_minor": 0,
  "metadata": {
    "colab": {
      "provenance": [],
      "authorship_tag": "ABX9TyOLfXC20tzyAb5Hk3Vn7CFr",
      "include_colab_link": true
    },
    "kernelspec": {
      "name": "python3",
      "display_name": "Python 3"
    },
    "language_info": {
      "name": "python"
    }
  },
  "cells": [
    {
      "cell_type": "markdown",
      "metadata": {
        "id": "view-in-github",
        "colab_type": "text"
      },
      "source": [
        "<a href=\"https://colab.research.google.com/github/Timoooooooootttthhyyyyyyy/Timothy/blob/main/Untitled10.ipynb\" target=\"_parent\"><img src=\"https://colab.research.google.com/assets/colab-badge.svg\" alt=\"Open In Colab\"/></a>"
      ]
    },
    {
      "cell_type": "code",
      "execution_count": 1,
      "metadata": {
        "id": "SCyzsBREslS7"
      },
      "outputs": [],
      "source": [
        "def fun_name():\n",
        "  print(\"Hello world\")"
      ]
    },
    {
      "cell_type": "code",
      "source": [
        "def fun_name(x1,x2,x3):\n",
        "  print('The 3rd person is'  ,x3)\n",
        "yy='Juice wrld'\n",
        "fun_name(x3=yy,x2='Jahseh',x1='Jared')  "
      ],
      "metadata": {
        "colab": {
          "base_uri": "https://localhost:8080/"
        },
        "id": "45thWkA1txA7",
        "outputId": "d632ddd6-004c-42be-f324-2381baf3d4ac"
      },
      "execution_count": 4,
      "outputs": [
        {
          "output_type": "stream",
          "name": "stdout",
          "text": [
            "The 3rd person is Juice wrld\n"
          ]
        }
      ]
    },
    {
      "cell_type": "code",
      "source": [
        "def fun_name():\n",
        "  print('FIFA World Cup 2022')"
      ],
      "metadata": {
        "id": "BXkM-hBdu2fK"
      },
      "execution_count": 5,
      "outputs": []
    },
    {
      "cell_type": "code",
      "source": [
        "fun_name()"
      ],
      "metadata": {
        "colab": {
          "base_uri": "https://localhost:8080/"
        },
        "id": "S1xiKpLSvOcU",
        "outputId": "c6cf2287-9c14-436a-dcc9-2c2cebfde2f7"
      },
      "execution_count": 6,
      "outputs": [
        {
          "output_type": "stream",
          "name": "stdout",
          "text": [
            "FIFA World Cup 2022\n"
          ]
        }
      ]
    },
    {
      "cell_type": "code",
      "source": [
        "def fun_name(x1,x2,x3):\n",
        "  print('The 1st person is:'  ,x3)\n",
        "xx='Casey Evans Hemsworth'\n",
        "fun_name(x3=xx,x2='Lily',x1='Theo')  "
      ],
      "metadata": {
        "colab": {
          "base_uri": "https://localhost:8080/"
        },
        "id": "PkfJOi3GvxEb",
        "outputId": "ff8ae04e-49c5-41b0-ad04-15303ebc5bb8"
      },
      "execution_count": 13,
      "outputs": [
        {
          "output_type": "stream",
          "name": "stdout",
          "text": [
            "The 1st person is: Casey Evans Hemsworth\n"
          ]
        }
      ]
    },
    {
      "cell_type": "code",
      "source": [
        "def fun_name(x1,x2,x3):\n",
        "  print('The 1st person is:'  ,x3)\n",
        "xx='Casey Evans Hemsworth'\n",
        "fun_name(x3=xx,x2='Lily',x1='Theo')  "
      ],
      "metadata": {
        "colab": {
          "base_uri": "https://localhost:8080/"
        },
        "id": "RgB9sNOUwcyZ",
        "outputId": "04257b1e-b588-48fd-c182-7e3788954316"
      },
      "execution_count": 14,
      "outputs": [
        {
          "output_type": "stream",
          "name": "stdout",
          "text": [
            "The 1st person is: Casey Evans Hemsworth\n"
          ]
        }
      ]
    },
    {
      "cell_type": "code",
      "source": [
        "def fun_name(x1,x2,x3):\n",
        "  print('The 1st person is:'  ,x3)\n",
        "xx='Casey Evans Hemsworth'\n",
        "fun_name(x3=xx,x2='Lily',x1='Theo')  "
      ],
      "metadata": {
        "colab": {
          "base_uri": "https://localhost:8080/"
        },
        "id": "aM6e1I6d3Qkg",
        "outputId": "387925c5-648d-4a17-e627-c2e8c0e76e03"
      },
      "execution_count": 15,
      "outputs": [
        {
          "output_type": "stream",
          "name": "stdout",
          "text": [
            "The 1st person is: Casey Evans Hemsworth\n"
          ]
        }
      ]
    },
    {
      "cell_type": "code",
      "source": [
        "def fun_name(x1,x2,x3):\n",
        "  print('The 1st person is:'  ,x3)\n",
        "xx='Casey Evans Hemsworth'\n",
        "fun_name(x3=xx,x2='Lily',x1='Theo')  "
      ],
      "metadata": {
        "colab": {
          "base_uri": "https://localhost:8080/"
        },
        "id": "RmOr8vSt4Wpc",
        "outputId": "c2622bcc-a19a-4f76-8560-f9e366db446f"
      },
      "execution_count": 16,
      "outputs": [
        {
          "output_type": "stream",
          "name": "stdout",
          "text": [
            "The 1st person is: Casey Evans Hemsworth\n"
          ]
        }
      ]
    },
    {
      "cell_type": "code",
      "source": [
        "def fun_name(x1,x2,x3):\n",
        "  print('The 1st person is:'  ,x3)\n",
        "xx='Casey Evans Hemsworth'\n",
        "fun_name(x3=xx,x2='Lily',x1='Theo')"
      ],
      "metadata": {
        "colab": {
          "base_uri": "https://localhost:8080/"
        },
        "id": "KIVLuYP54YT0",
        "outputId": "7ef642a7-08b7-41c6-915a-86c272719210"
      },
      "execution_count": 19,
      "outputs": [
        {
          "output_type": "stream",
          "name": "stdout",
          "text": [
            "The 1st person is: Casey Evans Hemsworth\n"
          ]
        }
      ]
    },
    {
      "cell_type": "code",
      "source": [
        "def fun_name(x1,x2,x3):\n",
        "  print('The 1st person is:'  ,x3)\n",
        "xx='Casey Evans Hemsworth'\n",
        "fun_name(x3=xx,x2='Lily',x1='Theo')  "
      ],
      "metadata": {
        "colab": {
          "base_uri": "https://localhost:8080/"
        },
        "id": "wraYgi4w4ar0",
        "outputId": "8353dff8-abe7-4313-9a31-c74173c77a9e"
      },
      "execution_count": 18,
      "outputs": [
        {
          "output_type": "stream",
          "name": "stdout",
          "text": [
            "The 1st person is: Casey Evans Hemsworth\n"
          ]
        }
      ]
    },
    {
      "cell_type": "code",
      "source": [],
      "metadata": {
        "id": "U-GxRMjF4fOi"
      },
      "execution_count": null,
      "outputs": []
    }
  ]
}