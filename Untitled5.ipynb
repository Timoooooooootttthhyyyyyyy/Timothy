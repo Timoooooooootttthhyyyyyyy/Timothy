{
  "nbformat": 4,
  "nbformat_minor": 0,
  "metadata": {
    "colab": {
      "provenance": [],
      "authorship_tag": "ABX9TyMre21XftUVAIWikATuzKyS",
      "include_colab_link": true
    },
    "kernelspec": {
      "name": "python3",
      "display_name": "Python 3"
    },
    "language_info": {
      "name": "python"
    }
  },
  "cells": [
    {
      "cell_type": "markdown",
      "metadata": {
        "id": "view-in-github",
        "colab_type": "text"
      },
      "source": [
        "<a href=\"https://colab.research.google.com/github/Timoooooooootttthhyyyyyyy/Timothy/blob/main/Untitled5.ipynb\" target=\"_parent\"><img src=\"https://colab.research.google.com/assets/colab-badge.svg\" alt=\"Open In Colab\"/></a>"
      ]
    },
    {
      "cell_type": "code",
      "source": [
        "x=input('Enter your name')\n",
        "print(x)\n",
        "y=(input('Enter the number'))\n",
        "print(y)"
      ],
      "metadata": {
        "colab": {
          "base_uri": "https://localhost:8080/"
        },
        "id": "LqGqhhvfhMZe",
        "outputId": "e1e503b6-9677-4d29-aa4e-85a70cd476b8"
      },
      "execution_count": null,
      "outputs": [
        {
          "output_type": "stream",
          "name": "stdout",
          "text": [
            "Enter your name Timothy Chacko\n",
            " Timothy Chacko\n",
            "Enter the number 8891557762\n",
            " 8891557762\n"
          ]
        }
      ]
    },
    {
      "cell_type": "code",
      "source": [
        "m1=int(input('Enter the mark of sub1'))\n",
        "m2=int(input('Enter the mark ofsub2'))\n",
        "m3=int(input('Enter the mark '))\n",
        "sum=m1+m2+m3\n",
        "print(sum)\n",
        "avg=sum/3\n",
        "print(avg)"
      ],
      "metadata": {
        "colab": {
          "base_uri": "https://localhost:8080/"
        },
        "id": "1T4n4C0vhf2T",
        "outputId": "bfbc1561-b5b4-4b33-ed37-0a66877d8ba7"
      },
      "execution_count": null,
      "outputs": [
        {
          "output_type": "stream",
          "name": "stdout",
          "text": [
            "Enter the mark of sub1 40\n",
            "Enter the mark ofsub2 20\n",
            "Enter the mark  10\n",
            "70\n",
            "23.333333333333332\n"
          ]
        }
      ]
    },
    {
      "cell_type": "code",
      "source": [
        "m1=int(input('Enter the number'))\n",
        "m2=int(input('enter the number'))\n",
        "m3=int(input('enter the number'))\n",
        "if m1>m2 and m1>m3:\n",
        "  print( 'the largest number', m1)\n",
        "if m2>m1 and m2>m3:\n",
        "  print(' the largest number',m2)\n",
        "else:\n",
        "  print(' the largest number',m3)\n"
      ],
      "metadata": {
        "colab": {
          "base_uri": "https://localhost:8080/"
        },
        "id": "O92RmcKjjUm3",
        "outputId": "8dce6c03-7e9d-4fcb-975e-ed78bf8c7491"
      },
      "execution_count": 20,
      "outputs": [
        {
          "output_type": "stream",
          "name": "stdout",
          "text": [
            "Enter the number 50\n",
            "enter the number 90\n",
            "enter the number 10\n",
            " the largest number 90\n"
          ]
        }
      ]
    },
    {
      "cell_type": "code",
      "source": [
        "m1=int(input('Enter the number'))\n",
        "if m1%2==0:\n",
        "  print('its an even number')\n",
        "if m1%2!=0: \n",
        "  print('its an odd number')  \n"
      ],
      "metadata": {
        "id": "9JyupydJmkUu",
        "colab": {
          "base_uri": "https://localhost:8080/"
        },
        "outputId": "7db23e03-4e20-4fe7-8813-35e3ab4b1de2"
      },
      "execution_count": 30,
      "outputs": [
        {
          "output_type": "stream",
          "name": "stdout",
          "text": [
            "Enter the number 6\n",
            "its an even number\n"
          ]
        }
      ]
    },
    {
      "cell_type": "code",
      "source": [],
      "metadata": {
        "id": "Se20K2VLvY0G"
      },
      "execution_count": 23,
      "outputs": []
    }
  ]
}