{
  "nbformat": 4,
  "nbformat_minor": 0,
  "metadata": {
    "colab": {
      "provenance": [],
      "authorship_tag": "ABX9TyO3qQ3g/dYdvYdasfclkdVG",
      "include_colab_link": true
    },
    "kernelspec": {
      "name": "python3",
      "display_name": "Python 3"
    },
    "language_info": {
      "name": "python"
    }
  },
  "cells": [
    {
      "cell_type": "markdown",
      "metadata": {
        "id": "view-in-github",
        "colab_type": "text"
      },
      "source": [
        "<a href=\"https://colab.research.google.com/github/Timoooooooootttthhyyyyyyy/Timothy/blob/main/Untitled5.ipynb\" target=\"_parent\"><img src=\"https://colab.research.google.com/assets/colab-badge.svg\" alt=\"Open In Colab\"/></a>"
      ]
    },
    {
      "cell_type": "code",
      "source": [
        "x=input('Enter your name')\n",
        "print(x)\n",
        "y=(input('Enter the number'))\n",
        "print(y)"
      ],
      "metadata": {
        "colab": {
          "base_uri": "https://localhost:8080/"
        },
        "id": "LqGqhhvfhMZe",
        "outputId": "e1e503b6-9677-4d29-aa4e-85a70cd476b8"
      },
      "execution_count": null,
      "outputs": [
        {
          "output_type": "stream",
          "name": "stdout",
          "text": [
            "Enter your name Timothy Chacko\n",
            " Timothy Chacko\n",
            "Enter the number 8891557762\n",
            " 8891557762\n"
          ]
        }
      ]
    },
    {
      "cell_type": "code",
      "source": [
        "m1=int(input('Enter the mark of sub1'))\n",
        "m2=int(input('Enter the mark ofsub2'))\n",
        "m3=int(input('Enter the mark '))\n",
        "sum=m1+m2+m3\n",
        "print(sum)\n",
        "avg=sum/3\n",
        "print(avg)"
      ],
      "metadata": {
        "colab": {
          "base_uri": "https://localhost:8080/"
        },
        "id": "1T4n4C0vhf2T",
        "outputId": "bfbc1561-b5b4-4b33-ed37-0a66877d8ba7"
      },
      "execution_count": null,
      "outputs": [
        {
          "output_type": "stream",
          "name": "stdout",
          "text": [
            "Enter the mark of sub1 40\n",
            "Enter the mark ofsub2 20\n",
            "Enter the mark  10\n",
            "70\n",
            "23.333333333333332\n"
          ]
        }
      ]
    },
    {
      "cell_type": "code",
      "source": [
        "m1=int(input('Enter the number'))\n",
        "m2=int(input('enter the number'))\n",
        "m3=int(input('enter the number'))\n",
        "if m1>m2 and m1>m3:\n",
        "  print( 'the largest number', m1)\n",
        "if m2>m1 and m2>m3:\n",
        "  print(' the largest number',m2)\n",
        "else:\n",
        "  print(' the largest number',m3)\n"
      ],
      "metadata": {
        "colab": {
          "base_uri": "https://localhost:8080/"
        },
        "id": "O92RmcKjjUm3",
        "outputId": "8dce6c03-7e9d-4fcb-975e-ed78bf8c7491"
      },
      "execution_count": 20,
      "outputs": [
        {
          "output_type": "stream",
          "name": "stdout",
          "text": [
            "Enter the number 50\n",
            "enter the number 90\n",
            "enter the number 10\n",
            " the largest number 90\n"
          ]
        }
      ]
    },
    {
      "cell_type": "code",
      "source": [
        "m1=int(input('Enter the number'))\n",
        "if m1%2==0:\n",
        "  print('its an even number')\n",
        "if m1%2!=0: \n",
        "  print('its an odd number')  \n"
      ],
      "metadata": {
        "id": "9JyupydJmkUu",
        "colab": {
          "base_uri": "https://localhost:8080/"
        },
        "outputId": "7db23e03-4e20-4fe7-8813-35e3ab4b1de2"
      },
      "execution_count": 30,
      "outputs": [
        {
          "output_type": "stream",
          "name": "stdout",
          "text": [
            "Enter the number 6\n",
            "its an even number\n"
          ]
        }
      ]
    },
    {
      "cell_type": "code",
      "source": [
        "x=int(input('enter a number'))\n",
        "y=int(input('enter a number'))\n",
        "for i in range(x,y):\n",
        "  if i%2==0:\n",
        "    print(i,'is even')"
      ],
      "metadata": {
        "colab": {
          "base_uri": "https://localhost:8080/"
        },
        "id": "Se20K2VLvY0G",
        "outputId": "57321a80-45a4-483f-8206-1e1a65684704"
      },
      "execution_count": 34,
      "outputs": [
        {
          "output_type": "stream",
          "name": "stdout",
          "text": [
            "enter a number 10\n",
            "enter a number 20\n",
            "10 is even\n",
            "12 is even\n",
            "14 is even\n",
            "16 is even\n",
            "18 is even\n"
          ]
        }
      ]
    },
    {
      "cell_type": "code",
      "source": [
        "for a in range(10,20):\n",
        "  print(a)"
      ],
      "metadata": {
        "colab": {
          "base_uri": "https://localhost:8080/"
        },
        "id": "gskUeJajyo3d",
        "outputId": "c30a180c-4f4d-4ca4-d574-772f9b83624a"
      },
      "execution_count": 35,
      "outputs": [
        {
          "output_type": "stream",
          "name": "stdout",
          "text": [
            "10\n",
            "11\n",
            "12\n",
            "13\n",
            "14\n",
            "15\n",
            "16\n",
            "17\n",
            "18\n",
            "19\n"
          ]
        }
      ]
    },
    {
      "cell_type": "code",
      "source": [
        "x=int(input('enter a number'))\n",
        "for a in range(1,11):\n",
        "  print(x*a)"
      ],
      "metadata": {
        "colab": {
          "base_uri": "https://localhost:8080/"
        },
        "id": "LeS8RtX50Exa",
        "outputId": "285c7df9-9598-4629-c41c-ebdd93745d6a"
      },
      "execution_count": 38,
      "outputs": [
        {
          "output_type": "stream",
          "name": "stdout",
          "text": [
            "enter a number 2\n",
            "2\n",
            "4\n",
            "6\n",
            "8\n",
            "10\n",
            "12\n",
            "14\n",
            "16\n",
            "18\n",
            "20\n"
          ]
        }
      ]
    },
    {
      "cell_type": "code",
      "source": [],
      "metadata": {
        "id": "QKMRbu7F08y9"
      },
      "execution_count": 38,
      "outputs": []
    }
  ]
}