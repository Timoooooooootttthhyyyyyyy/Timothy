{
  "nbformat": 4,
  "nbformat_minor": 0,
  "metadata": {
    "colab": {
      "provenance": [],
      "authorship_tag": "ABX9TyOWFtIaEVfWrpXEI5B4nSxj",
      "include_colab_link": true
    },
    "kernelspec": {
      "name": "python3",
      "display_name": "Python 3"
    },
    "language_info": {
      "name": "python"
    }
  },
  "cells": [
    {
      "cell_type": "markdown",
      "metadata": {
        "id": "view-in-github",
        "colab_type": "text"
      },
      "source": [
        "<a href=\"https://colab.research.google.com/github/Timoooooooootttthhyyyyyyy/Timothy/blob/main/Untitled9.ipynb\" target=\"_parent\"><img src=\"https://colab.research.google.com/assets/colab-badge.svg\" alt=\"Open In Colab\"/></a>"
      ]
    },
    {
      "cell_type": "code",
      "execution_count": 1,
      "metadata": {
        "colab": {
          "base_uri": "https://localhost:8080/"
        },
        "id": "XfAHxMVn1jTK",
        "outputId": "0525611a-20dd-4c9c-e9fa-a18ef852e905"
      },
      "outputs": [
        {
          "output_type": "execute_result",
          "data": {
            "text/plain": [
              "int"
            ]
          },
          "metadata": {},
          "execution_count": 1
        }
      ],
      "source": [
        "num=2\n",
        "type(num)"
      ]
    },
    {
      "cell_type": "code",
      "source": [
        "num=10.67\n",
        "type(num)"
      ],
      "metadata": {
        "colab": {
          "base_uri": "https://localhost:8080/"
        },
        "id": "yAfx9yVP3Bhr",
        "outputId": "09df396f-3bd8-4aa2-e293-8e00f2cbeeba"
      },
      "execution_count": 2,
      "outputs": [
        {
          "output_type": "execute_result",
          "data": {
            "text/plain": [
              "float"
            ]
          },
          "metadata": {},
          "execution_count": 2
        }
      ]
    },
    {
      "cell_type": "code",
      "source": [
        "num1=5\n",
        "num2=10.5\n",
        "type(num1+num2)"
      ],
      "metadata": {
        "colab": {
          "base_uri": "https://localhost:8080/"
        },
        "id": "zRu8QxxD3Pzq",
        "outputId": "11f6c7f0-0237-4fd0-dd40-05eab1b9d066"
      },
      "execution_count": 3,
      "outputs": [
        {
          "output_type": "execute_result",
          "data": {
            "text/plain": [
              "float"
            ]
          },
          "metadata": {},
          "execution_count": 3
        }
      ]
    },
    {
      "cell_type": "code",
      "source": [
        "c=10+5j\n",
        "type(c)"
      ],
      "metadata": {
        "colab": {
          "base_uri": "https://localhost:8080/"
        },
        "id": "O17XBDjg3gGK",
        "outputId": "7645f3bf-d4af-4890-c2ba-f0de61de5200"
      },
      "execution_count": 4,
      "outputs": [
        {
          "output_type": "execute_result",
          "data": {
            "text/plain": [
              "complex"
            ]
          },
          "metadata": {},
          "execution_count": 4
        }
      ]
    },
    {
      "cell_type": "code",
      "source": [
        "a='Timothy Chacko'\n",
        "type(a)"
      ],
      "metadata": {
        "colab": {
          "base_uri": "https://localhost:8080/"
        },
        "id": "rX59dCQQ4J9C",
        "outputId": "54c8f820-c572-4180-ff4f-b3197af9f8dd"
      },
      "execution_count": 5,
      "outputs": [
        {
          "output_type": "execute_result",
          "data": {
            "text/plain": [
              "str"
            ]
          },
          "metadata": {},
          "execution_count": 5
        }
      ]
    },
    {
      "cell_type": "code",
      "source": [
        "y='You are a student'\n",
        "type(y)"
      ],
      "metadata": {
        "colab": {
          "base_uri": "https://localhost:8080/"
        },
        "id": "yjTtCJ8C4Zta",
        "outputId": "fdf10c32-afe0-48b7-a9a9-064401a9f32f"
      },
      "execution_count": 6,
      "outputs": [
        {
          "output_type": "execute_result",
          "data": {
            "text/plain": [
              "str"
            ]
          },
          "metadata": {},
          "execution_count": 6
        }
      ]
    },
    {
      "cell_type": "code",
      "source": [
        "name=[\"The devil himself\",\"My demons\",\"My wild thoughts\"]\n",
        "type(name)\n"
      ],
      "metadata": {
        "colab": {
          "base_uri": "https://localhost:8080/"
        },
        "id": "8mHmspV04iL6",
        "outputId": "ba845dfb-5747-4274-c193-338b066c9dc9"
      },
      "execution_count": 11,
      "outputs": [
        {
          "output_type": "execute_result",
          "data": {
            "text/plain": [
              "list"
            ]
          },
          "metadata": {},
          "execution_count": 11
        }
      ]
    },
    {
      "cell_type": "code",
      "source": [
        "grades=[10,20,30,40,50,60,70,80]\n",
        "type(grades)"
      ],
      "metadata": {
        "colab": {
          "base_uri": "https://localhost:8080/"
        },
        "id": "TZ--jgTY46bh",
        "outputId": "b1cb0627-bf13-4498-c5f7-b841f20af89e"
      },
      "execution_count": 10,
      "outputs": [
        {
          "output_type": "execute_result",
          "data": {
            "text/plain": [
              "list"
            ]
          },
          "metadata": {},
          "execution_count": 10
        }
      ]
    },
    {
      "cell_type": "code",
      "source": [
        "grades=(10,20,30,40,50,60,70,80,90)\n",
        "type(grades)"
      ],
      "metadata": {
        "colab": {
          "base_uri": "https://localhost:8080/"
        },
        "id": "nMTipcT55xh4",
        "outputId": "867ccc41-21a4-4b6b-d0da-569b888de20e"
      },
      "execution_count": 12,
      "outputs": [
        {
          "output_type": "execute_result",
          "data": {
            "text/plain": [
              "tuple"
            ]
          },
          "metadata": {},
          "execution_count": 12
        }
      ]
    },
    {
      "cell_type": "code",
      "source": [
        "friends=[\"Anxiety\",\"Depression\",\"Obsession\",\"Tears\"]\n",
        "print(friends[2])"
      ],
      "metadata": {
        "colab": {
          "base_uri": "https://localhost:8080/"
        },
        "id": "LMd03GLq6DTw",
        "outputId": "4df89fc2-3b19-4af6-d82e-6c6b2d542b21"
      },
      "execution_count": 14,
      "outputs": [
        {
          "output_type": "stream",
          "name": "stdout",
          "text": [
            "Obsession\n"
          ]
        }
      ]
    },
    {
      "cell_type": "code",
      "source": [
        "print(friends[0])"
      ],
      "metadata": {
        "colab": {
          "base_uri": "https://localhost:8080/"
        },
        "id": "mVgT53Oh6dZD",
        "outputId": "588362e1-a1c1-41e1-b92b-083665ae8061"
      },
      "execution_count": 16,
      "outputs": [
        {
          "output_type": "stream",
          "name": "stdout",
          "text": [
            "Anxiety\n"
          ]
        }
      ]
    },
    {
      "cell_type": "code",
      "source": [
        "print(friends[3])"
      ],
      "metadata": {
        "colab": {
          "base_uri": "https://localhost:8080/"
        },
        "id": "HfbRvB_66uDa",
        "outputId": "358e80d9-8dd3-444d-f3e3-c0890cb66356"
      },
      "execution_count": 17,
      "outputs": [
        {
          "output_type": "stream",
          "name": "stdout",
          "text": [
            "Tears\n"
          ]
        }
      ]
    },
    {
      "cell_type": "code",
      "source": [
        "Singers=[\"Juice Wrld\",\"XXXtentacion\",\"Lil Peep\",\"21 Savage\",\"Company\"]\n",
        "Singers.pop(3)\n"
      ],
      "metadata": {
        "colab": {
          "base_uri": "https://localhost:8080/",
          "height": 35
        },
        "id": "-hhztTek62U6",
        "outputId": "16398a3d-6c1d-4ebb-8bfe-3d7ceb6a58b2"
      },
      "execution_count": 22,
      "outputs": [
        {
          "output_type": "execute_result",
          "data": {
            "text/plain": [
              "'21 Savage'"
            ],
            "application/vnd.google.colaboratory.intrinsic+json": {
              "type": "string"
            }
          },
          "metadata": {},
          "execution_count": 22
        }
      ]
    },
    {
      "cell_type": "code",
      "source": [
        "print(Singers)"
      ],
      "metadata": {
        "colab": {
          "base_uri": "https://localhost:8080/"
        },
        "id": "OcyFxBbN8Knr",
        "outputId": "eac54bfd-1c9b-44a7-c0a4-4889d5ce593a"
      },
      "execution_count": 23,
      "outputs": [
        {
          "output_type": "stream",
          "name": "stdout",
          "text": [
            "['Juice Wrld', 'XXXtentacion', 'Lil Peep', 'Company']\n"
          ]
        }
      ]
    },
    {
      "cell_type": "code",
      "source": [
        "Singers.append(\"Weeknd\")"
      ],
      "metadata": {
        "id": "uUdd3PPU8h6l"
      },
      "execution_count": 28,
      "outputs": []
    },
    {
      "cell_type": "code",
      "source": [
        "print(Singers)"
      ],
      "metadata": {
        "colab": {
          "base_uri": "https://localhost:8080/"
        },
        "id": "DqygoByI95xP",
        "outputId": "6ad1cf21-6539-4338-8c31-d74affda2177"
      },
      "execution_count": 29,
      "outputs": [
        {
          "output_type": "stream",
          "name": "stdout",
          "text": [
            "['Juice Wrld', 'XXXtentacion', 'Lil Peep', 'Company', 'Nej', 'Weeknd']\n"
          ]
        }
      ]
    },
    {
      "cell_type": "code",
      "source": [
        "Singers.sort()"
      ],
      "metadata": {
        "id": "DztrtWX--T5n"
      },
      "execution_count": 30,
      "outputs": []
    },
    {
      "cell_type": "code",
      "source": [
        "print(Singers)"
      ],
      "metadata": {
        "colab": {
          "base_uri": "https://localhost:8080/"
        },
        "id": "G2ldhLI8-vTZ",
        "outputId": "c17c2fdd-53cd-4f74-f999-cdf692044f64"
      },
      "execution_count": 31,
      "outputs": [
        {
          "output_type": "stream",
          "name": "stdout",
          "text": [
            "['Company', 'Juice Wrld', 'Lil Peep', 'Nej', 'Weeknd', 'XXXtentacion']\n"
          ]
        }
      ]
    },
    {
      "cell_type": "code",
      "source": [
        "Singers.reverse()"
      ],
      "metadata": {
        "id": "q5fRq3yJ-yTH"
      },
      "execution_count": 32,
      "outputs": []
    },
    {
      "cell_type": "code",
      "source": [
        "print(Singers)"
      ],
      "metadata": {
        "colab": {
          "base_uri": "https://localhost:8080/"
        },
        "id": "SIGoGT4n_bG3",
        "outputId": "b1b9a28f-a6cb-4a9c-eb8a-5470f50401e8"
      },
      "execution_count": 33,
      "outputs": [
        {
          "output_type": "stream",
          "name": "stdout",
          "text": [
            "['XXXtentacion', 'Weeknd', 'Nej', 'Lil Peep', 'Juice Wrld', 'Company']\n"
          ]
        }
      ]
    },
    {
      "cell_type": "code",
      "source": [
        "Singers.insert(2,\"Chainsmokers\")"
      ],
      "metadata": {
        "id": "R05Oi-YK_c-v"
      },
      "execution_count": 34,
      "outputs": []
    },
    {
      "cell_type": "code",
      "source": [
        "print(Singers)"
      ],
      "metadata": {
        "colab": {
          "base_uri": "https://localhost:8080/"
        },
        "id": "oCUQoVbXAxou",
        "outputId": "5bfea652-90cf-4b7e-8ba5-231a974d9351"
      },
      "execution_count": 35,
      "outputs": [
        {
          "output_type": "stream",
          "name": "stdout",
          "text": [
            "['XXXtentacion', 'Weeknd', 'Chainsmokers', 'Nej', 'Lil Peep', 'Juice Wrld', 'Company']\n"
          ]
        }
      ]
    },
    {
      "cell_type": "code",
      "source": [
        "Singers+friends"
      ],
      "metadata": {
        "colab": {
          "base_uri": "https://localhost:8080/"
        },
        "id": "uaZqu-XtAzXK",
        "outputId": "7a0bda5d-c755-4b36-e102-30eeaf08b8c0"
      },
      "execution_count": 38,
      "outputs": [
        {
          "output_type": "execute_result",
          "data": {
            "text/plain": [
              "['XXXtentacion',\n",
              " 'Weeknd',\n",
              " 'Chainsmokers',\n",
              " 'Nej',\n",
              " 'Lil Peep',\n",
              " 'Juice Wrld',\n",
              " 'Company',\n",
              " 'Anxiety',\n",
              " 'Depression',\n",
              " 'Obsession',\n",
              " 'Tears']"
            ]
          },
          "metadata": {},
          "execution_count": 38
        }
      ]
    },
    {
      "cell_type": "code",
      "source": [
        "h={1,2,3,4,5.6,7.0,8,9}\n",
        "type(h)"
      ],
      "metadata": {
        "colab": {
          "base_uri": "https://localhost:8080/"
        },
        "id": "tr2yYb22BRik",
        "outputId": "ba421607-f563-4d5e-9f5f-358549fc46c8"
      },
      "execution_count": 46,
      "outputs": [
        {
          "output_type": "execute_result",
          "data": {
            "text/plain": [
              "set"
            ]
          },
          "metadata": {},
          "execution_count": 46
        }
      ]
    },
    {
      "cell_type": "code",
      "source": [
        "marks=[10,20,20,30,40]\n",
        "set1=set(marks)\n",
        "print(set1)"
      ],
      "metadata": {
        "colab": {
          "base_uri": "https://localhost:8080/"
        },
        "id": "sefKYNhqEFUX",
        "outputId": "a4f78782-2744-43be-c603-ab970c57d654"
      },
      "execution_count": 48,
      "outputs": [
        {
          "output_type": "stream",
          "name": "stdout",
          "text": [
            "{40, 10, 20, 30}\n"
          ]
        }
      ]
    },
    {
      "cell_type": "code",
      "source": [
        "dict={'Name':'Timothy Chacko','Favourite Rapper':'Juice Wrld','Phone number':1234567891,'Hobby':'Football','Place':'Saudi Arabia'}\n",
        "print(dict)"
      ],
      "metadata": {
        "colab": {
          "base_uri": "https://localhost:8080/"
        },
        "id": "g3Ic3R90GaPn",
        "outputId": "1a476fd5-a29a-4280-a718-774268e7baa2"
      },
      "execution_count": 52,
      "outputs": [
        {
          "output_type": "stream",
          "name": "stdout",
          "text": [
            "{'Name': 'Timothy Chacko', 'Favourite Rapper': 'Juice Wrld', 'Phone number': 1234567891, 'Hobby': 'Football', 'Place': 'Saudi Arabia'}\n"
          ]
        }
      ]
    },
    {
      "cell_type": "code",
      "source": [
        "dict['year']=2004"
      ],
      "metadata": {
        "id": "9597MCegIHsE"
      },
      "execution_count": 56,
      "outputs": []
    },
    {
      "cell_type": "code",
      "source": [
        "print(dict)"
      ],
      "metadata": {
        "colab": {
          "base_uri": "https://localhost:8080/"
        },
        "id": "JxJMzGZFJQd3",
        "outputId": "d474cd25-322d-4f47-d339-6866cd1b55a3"
      },
      "execution_count": 57,
      "outputs": [
        {
          "output_type": "stream",
          "name": "stdout",
          "text": [
            "{'Name': 'Timothy Chacko', 'Favourite Rapper': 'Juice Wrld', 'Phone number': 1234567891, 'Hobby': 'Football', 'Place': 'Saudi Arabia', 'year': 2004}\n"
          ]
        }
      ]
    },
    {
      "cell_type": "code",
      "source": [
        "dict['name']='Lavender Fernadez'"
      ],
      "metadata": {
        "id": "PZ6wbQguKD__"
      },
      "execution_count": 61,
      "outputs": []
    },
    {
      "cell_type": "code",
      "source": [
        "print(dict)"
      ],
      "metadata": {
        "colab": {
          "base_uri": "https://localhost:8080/"
        },
        "id": "mAlPM8MwKSsi",
        "outputId": "4503d260-d128-48cd-9037-633a0b47cb23"
      },
      "execution_count": 62,
      "outputs": [
        {
          "output_type": "stream",
          "name": "stdout",
          "text": [
            "{'Name': 'Timothy Chacko', 'Favourite Rapper': 'Juice Wrld', 'Phone number': 1234567891, 'Hobby': 'Football', 'Place': 'Saudi Arabia', 'year': 2004, 'name': 'Lavender Fernadez'}\n"
          ]
        }
      ]
    },
    {
      "cell_type": "code",
      "source": [
        "dict['age']=18"
      ],
      "metadata": {
        "id": "fyvI_sOKKUN6"
      },
      "execution_count": 63,
      "outputs": []
    },
    {
      "cell_type": "code",
      "source": [
        "print(dict)"
      ],
      "metadata": {
        "colab": {
          "base_uri": "https://localhost:8080/"
        },
        "id": "O1oN6rmiKvpJ",
        "outputId": "e7aae31b-e1c8-45d9-93db-fd1545b3d906"
      },
      "execution_count": 64,
      "outputs": [
        {
          "output_type": "stream",
          "name": "stdout",
          "text": [
            "{'Name': 'Timothy Chacko', 'Favourite Rapper': 'Juice Wrld', 'Phone number': 1234567891, 'Hobby': 'Football', 'Place': 'Saudi Arabia', 'year': 2004, 'name': 'Lavender Fernadez', 'age': 18}\n"
          ]
        }
      ]
    },
    {
      "cell_type": "code",
      "source": [],
      "metadata": {
        "id": "mAsZJtZ6Kxwn"
      },
      "execution_count": null,
      "outputs": []
    }
  ]
}